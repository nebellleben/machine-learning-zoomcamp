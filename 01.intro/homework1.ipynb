{
 "cells": [
  {
   "cell_type": "code",
   "execution_count": 7,
   "id": "3f3c0ed7",
   "metadata": {},
   "outputs": [
    {
     "name": "stdout",
     "output_type": "stream",
     "text": [
      "1. Version:  2.3.1\n",
      "2. Shape:  (9704, 11)\n",
      "Index(['engine_displacement', 'num_cylinders', 'horsepower', 'vehicle_weight',\n",
      "       'acceleration', 'model_year', 'origin', 'fuel_type', 'drivetrain',\n",
      "       'num_doors', 'fuel_efficiency_mpg'],\n",
      "      dtype='object')\n",
      "3. Fuel Types:  2\n",
      "4. Missing Values:  4\n",
      "5. Max Fuel Efficiency 23.759122836520497\n",
      "6. Median Horsepower (before fillna):  149.0\n",
      "6. Median Horsepower (after fillna):  149.0\n"
     ]
    }
   ],
   "source": [
    "import pandas as pd\n",
    "import numpy as np\n",
    "\n",
    "print(\"1. Version: \", pd.__version__)\n",
    "\n",
    "car_df = pd.read_csv('https://raw.githubusercontent.com/alexeygrigorev/datasets/master/car_fuel_efficiency.csv')\n",
    "\n",
    "print(\"2. Shape: \", car_df.shape)\n",
    "\n",
    "print(car_df.columns)\n",
    "\n",
    "print(\"3. Fuel Types: \",car_df['fuel_type'].nunique())\n",
    "\n",
    "print(\"4. Missing Values: \", car_df.isna().any().sum())\n",
    "\n",
    "print(\"5. Max Fuel Efficiency\", car_df[car_df['origin']=='Asia']['fuel_efficiency_mpg'].max())\n",
    "\n",
    "print(\"6. Median Horsepower (before fillna): \", car_df['horsepower'].median())\n",
    "#Find the mode:\n",
    "car_df['fillna_horsepower'] = car_df['horsepower'].fillna(car_df['horsepower'].mode())\n",
    "print(\"6. Median Horsepower (after fillna): \", car_df['fillna_horsepower'].median())\n",
    "\n"
   ]
  },
  {
   "cell_type": "code",
   "execution_count": 18,
   "id": "92f2d611",
   "metadata": {},
   "outputs": [
    {
     "name": "stdout",
     "output_type": "stream",
     "text": [
      "[[62248334.33150762 41431216.5073268 ]\n",
      " [41431216.5073268  28373339.        ]]\n",
      "0.5187709081074016\n"
     ]
    }
   ],
   "source": [
    "selected = car_df[car_df['origin']=='Asia'][['vehicle_weight','model_year']]\n",
    "X = selected.iloc[:7].to_numpy()\n",
    "XTX = X.T @ X\n",
    "print(XTX)\n",
    "\n",
    "y = np.array([1100, 1300, 800, 900, 1000, 1100, 1200])\n",
    "w = np.linalg.inv(XTX) @ X.T @ y\n",
    "\n",
    "print(w.sum())"
   ]
  }
 ],
 "metadata": {
  "kernelspec": {
   "display_name": "Python 3",
   "language": "python",
   "name": "python3"
  },
  "language_info": {
   "codemirror_mode": {
    "name": "ipython",
    "version": 3
   },
   "file_extension": ".py",
   "mimetype": "text/x-python",
   "name": "python",
   "nbconvert_exporter": "python",
   "pygments_lexer": "ipython3",
   "version": "3.12.1"
  }
 },
 "nbformat": 4,
 "nbformat_minor": 5
}
