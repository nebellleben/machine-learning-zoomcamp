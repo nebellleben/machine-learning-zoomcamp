{
 "cells": [
  {
   "cell_type": "code",
   "execution_count": 3,
   "id": "b7c03930",
   "metadata": {},
   "outputs": [
    {
     "name": "stdout",
     "output_type": "stream",
     "text": [
      "Collecting tqdm\n",
      "  Downloading tqdm-4.67.1-py3-none-any.whl.metadata (57 kB)\n",
      "Downloading tqdm-4.67.1-py3-none-any.whl (78 kB)\n",
      "Installing collected packages: tqdm\n",
      "Successfully installed tqdm-4.67.1\n",
      "\n",
      "\u001b[1m[\u001b[0m\u001b[34;49mnotice\u001b[0m\u001b[1;39;49m]\u001b[0m\u001b[39;49m A new release of pip is available: \u001b[0m\u001b[31;49m25.1.1\u001b[0m\u001b[39;49m -> \u001b[0m\u001b[32;49m25.2\u001b[0m\n",
      "\u001b[1m[\u001b[0m\u001b[34;49mnotice\u001b[0m\u001b[1;39;49m]\u001b[0m\u001b[39;49m To update, run: \u001b[0m\u001b[32;49mpython3 -m pip install --upgrade pip\u001b[0m\n",
      "hello\n"
     ]
    },
    {
     "name": "stderr",
     "output_type": "stream",
     "text": [
      "/usr/local/python/3.12.1/lib/python3.12/site-packages/tqdm/auto.py:21: TqdmWarning: IProgress not found. Please update jupyter and ipywidgets. See https://ipywidgets.readthedocs.io/en/stable/user_install.html\n",
      "  from .autonotebook import tqdm as notebook_tqdm\n"
     ]
    }
   ],
   "source": [
    "!pip install tqdm\n",
    "\n",
    "import pandas as pd\n",
    "import numpy as np\n",
    "from sklearn.model_selection import train_test_split\n",
    "from sklearn.feature_extraction import DictVectorizer\n",
    "from sklearn.linear_model import LogisticRegression\n",
    "from sklearn.metrics import roc_auc_score\n",
    "import matplotlib.pyplot as plt\n",
    "from sklearn.model_selection import KFold\n",
    "from tqdm.auto import tqdm\n",
    "from sklearn.preprocessing import StandardScaler\n",
    "\n",
    "\n",
    "print('hello')\n",
    "# Read data\n",
    "df = pd.read_csv('https://raw.githubusercontent.com/alexeygrigorev/datasets/master/course_lead_scoring.csv')\n"
   ]
  },
  {
   "cell_type": "code",
   "execution_count": 4,
   "id": "e067e0f7",
   "metadata": {},
   "outputs": [
    {
     "data": {
      "text/plain": [
       "lead_source                 0\n",
       "industry                    0\n",
       "number_of_courses_viewed    0\n",
       "annual_income               0\n",
       "employment_status           0\n",
       "location                    0\n",
       "interaction_count           0\n",
       "lead_score                  0\n",
       "converted                   0\n",
       "dtype: int64"
      ]
     },
     "execution_count": 4,
     "metadata": {},
     "output_type": "execute_result"
    }
   ],
   "source": [
    "# Data Preparation\n",
    "\n",
    "numerical = ['number_of_courses_viewed','annual_income','interaction_count','lead_score','converted']\n",
    "categorical = list(set(df.columns)-set(numerical))\n",
    "\n",
    "df[numerical] = df[numerical].fillna(0)\n",
    "df[categorical] = df[categorical].fillna('NA')\n",
    "\n",
    "df[categorical] = df[categorical].astype('category')\n",
    "\n",
    "df.isna().sum()"
   ]
  },
  {
   "cell_type": "code",
   "execution_count": 5,
   "id": "5e6252db",
   "metadata": {},
   "outputs": [],
   "source": [
    "# Split the data into 3 parts: train/validation/test with 60%/20%/20% distribution. Use train_test_split function for that with random_state=1\n",
    "\n",
    "df_all_train, df_test = train_test_split(df, test_size=0.2, random_state=1)\n",
    "df_train, df_val = train_test_split(df_all_train, test_size=0.25, random_state=1)\n",
    "\n",
    "df_all_train.reset_index(inplace=True)\n",
    "df_full_train = df_all_train.copy()\n",
    "df_train.reset_index(inplace=True)\n",
    "df_val.reset_index(inplace=True)\n",
    "df_test.reset_index(inplace=True)\n",
    "\n",
    "y_all_train = df_all_train['converted'].values\n",
    "y_train = df_train['converted'].values\n",
    "y_val = df_val['converted'].values\n",
    "y_test = df_test['converted'].values\n",
    "\n",
    "del df_train['converted']\n",
    "del df_val['converted']\n",
    "del df_test['converted']\n",
    "\n",
    "numerical.remove('converted')"
   ]
  },
  {
   "cell_type": "code",
   "execution_count": 6,
   "id": "492dd147",
   "metadata": {},
   "outputs": [
    {
     "name": "stdout",
     "output_type": "stream",
     "text": [
      "lead_score: 0.610\n",
      "number_of_courses_viewed: 0.760\n",
      "interaction_count: 0.740\n",
      "annual_income: 0.550\n"
     ]
    }
   ],
   "source": [
    "# Question 1: ROC AUC feature importance\n",
    "\n",
    "# Which numerical variable (among the following 4) has the highest AUC?\n",
    "# lead_score\n",
    "# number_of_courses_viewed\n",
    "# interaction_count\n",
    "# annual_income\n",
    "\n",
    "target_columns = ['lead_score', 'number_of_courses_viewed', 'interaction_count', 'annual_income']\n",
    "\n",
    "for c in target_columns:\n",
    "    y_predicted = df_train[c].values\n",
    "    print('%s: %.3f' % (c, round(roc_auc_score(y_train, y_predicted),2)))\n",
    "\n",
    "\n",
    "# Answers: number_of_courses_viewed\n",
    "#lead_score: 0.610\n",
    "#number_of_courses_viewed: 0.760\n",
    "#interaction_count: 0.740\n",
    "#annual_income: 0.550\n"
   ]
  },
  {
   "cell_type": "code",
   "execution_count": 14,
   "id": "8eec0a0a",
   "metadata": {},
   "outputs": [
    {
     "name": "stdout",
     "output_type": "stream",
     "text": [
      "score: 0.921\n"
     ]
    },
    {
     "data": {
      "text/plain": [
       "'\\n# Try another one by fitting all_train\\ndv2 = DictVectorizer(sparse=False)\\nX_all_train = dv2.fit_transform(df_all_train.to_dict(orient=\\'records\\'))\\nX_test = dv2.transform(df_test.to_dict(orient=\\'records\\'))\\n\\nmodel = LogisticRegression(solver=\\'liblinear\\', C=1.0, max_iter=1000)\\nmodel.fit(X_all_train, y_all_train)\\ny_pred2 = model.predict_proba(X_test)[:,1]\\n#converted_decision = (y_pred > 0.5)\\n\\nprint(\"score: %.3f\" % (roc_auc_score(y_test, y_pred2)))\\n'"
      ]
     },
     "execution_count": 14,
     "metadata": {},
     "output_type": "execute_result"
    }
   ],
   "source": [
    "# Question 2: Training the model\n",
    "\n",
    "dv = DictVectorizer(sparse=False)\n",
    "X_train = dv.fit_transform(df_train.to_dict(orient='records'))\n",
    "X_val = dv.transform(df_val.to_dict(orient='records'))\n",
    "\n",
    "# apply StandardScaler\n",
    "ss = StandardScaler()\n",
    "X_train_s = ss.fit_transform(X_train)\n",
    "X_val_s = ss.transform(X_val)\n",
    "\n",
    "model = LogisticRegression(solver='liblinear', C=1.0, max_iter=1000)\n",
    "#model.fit(X_train, y_train)\n",
    "model.fit(X_train_s, y_train)\n",
    "#y_pred = model.predict_proba(X_val)[:,1]\n",
    "y_pred = model.predict_proba(X_val_s)[:,1]\n",
    "\n",
    "## score: 0.827\n",
    "print(\"score: %.3f\" % (roc_auc_score(y_val, y_pred)))\n",
    "\n",
    "'''\n",
    "# Try another one by fitting all_train\n",
    "dv2 = DictVectorizer(sparse=False)\n",
    "X_all_train = dv2.fit_transform(df_all_train.to_dict(orient='records'))\n",
    "X_test = dv2.transform(df_test.to_dict(orient='records'))\n",
    "\n",
    "model = LogisticRegression(solver='liblinear', C=1.0, max_iter=1000)\n",
    "model.fit(X_all_train, y_all_train)\n",
    "y_pred2 = model.predict_proba(X_test)[:,1]\n",
    "#converted_decision = (y_pred > 0.5)\n",
    "\n",
    "print(\"score: %.3f\" % (roc_auc_score(y_test, y_pred2)))\n",
    "'''"
   ]
  },
  {
   "cell_type": "code",
   "execution_count": 15,
   "id": "850b2e4a",
   "metadata": {},
   "outputs": [
    {
     "data": {
      "image/png": "[encoded data removed]",
      "text/plain": [
       "<Figure size 640x480 with 1 Axes>"
      ]
     },
     "metadata": {},
     "output_type": "display_data"
    },
    {
     "name": "stdout",
     "output_type": "stream",
     "text": [
      "intersection at: 0.53\n"
     ]
    }
   ],
   "source": [
    "# Question 3: Precision and Recall\n",
    "\n",
    "thresholds = np.arange(0,1.01,0.01)\n",
    "\n",
    "actual_positive = (y_val==1)\n",
    "actual_negative = (y_val==0)\n",
    "\n",
    "precisions = []\n",
    "recalls = []\n",
    "tps = []\n",
    "fps = []\n",
    "fns = []\n",
    "tns = []\n",
    "\n",
    "for th in thresholds:\n",
    "    predicted_positive = (y_pred >= th)\n",
    "    predicted_negative = (y_pred < th)\n",
    "\n",
    "    tps.append((actual_positive & predicted_positive).sum())\n",
    "    fps.append((actual_negative & predicted_positive).sum())\n",
    "    fns.append((actual_positive & predicted_negative).sum())\n",
    "    tns.append((actual_negative & predicted_negative).sum())\n",
    "\n",
    "    #precisions.append(tp / (tp + fp))\n",
    "    #recalls.append(tp / (tp + fn))\n",
    "\n",
    "\n",
    "pred_results = pd.DataFrame({'threshold': thresholds, 'tp': tps, 'fp': fps, 'fn': fns, 'tn': tns})\n",
    "pred_results['precision'] = pred_results['tp']/(pred_results['tp']+pred_results['fp'])\n",
    "pred_results['recall'] = pred_results['tp']/(pred_results['tp']+pred_results['fn'])\n",
    "\n",
    "plt.plot(pred_results['threshold'], pred_results['precision'], label='precision')\n",
    "plt.plot(pred_results['threshold'], pred_results['recall'], label='recall')\n",
    "plt.legend()\n",
    "plt.title('Precision and Recall')\n",
    "plt.show()\n",
    "\n",
    "# intersection point:\n",
    "pred_results['diff'] = np.abs(pred_results['precision']-pred_results['recall'])\n",
    "print(\"intersection at:\", pred_results.iloc[pred_results['diff'].idxmin()]['threshold'])\n"
   ]
  },
  {
   "cell_type": "markdown",
   "id": "50145300",
   "metadata": {},
   "source": [
    "# Question 3 - use all_train and test instead:\n",
    "\n",
    "actual_positive = (y_test==1)\n",
    "actual_negative = (y_test==0)\n",
    "\n",
    "precisions = []\n",
    "recalls = []\n",
    "tps = []\n",
    "fps = []\n",
    "fns = []\n",
    "tns = []\n",
    "\n",
    "for th in thresholds:\n",
    "    predicted_positive = (y_pred2 >= th)\n",
    "    predicted_negative = (y_pred2 < th)\n",
    "\n",
    "    tps.append((actual_positive & predicted_positive).sum())\n",
    "    fps.append((actual_negative & predicted_positive).sum())\n",
    "    fns.append((actual_positive & predicted_negative).sum())\n",
    "    tns.append((actual_negative & predicted_negative).sum())\n",
    "\n",
    "    #precisions.append(tp / (tp + fp))\n",
    "    #recalls.append(tp / (tp + fn))\n",
    "\n",
    "\n",
    "pred2_results = pd.DataFrame({'threshold': thresholds, 'tp': tps, 'fp': fps, 'fn': fns, 'tn': tns})\n",
    "pred2_results['precision'] = pred2_results['tp']/(pred2_results['tp']+pred2_results['fp'])\n",
    "pred2_results['recall'] = pred2_results['tp']/(pred2_results['tp']+pred2_results['fn'])\n",
    "\n",
    "plt.plot(pred2_results['threshold'], pred2_results['precision'], label='precision')\n",
    "plt.plot(pred2_results['threshold'], pred2_results['recall'], label='recall')\n",
    "plt.legend()\n",
    "plt.title('Precision and Recall')\n",
    "plt.show()\n",
    "\n",
    "# intersection point:\n",
    "pred2_results['diff'] = np.abs(pred2_results['precision']-pred2_results['recall'])\n",
    "print(\"intersection at:\", pred2_results.iloc[pred2_results['diff'].idxmin()]['threshold'])\n"
   ]
  },
  {
   "cell_type": "code",
   "execution_count": 16,
   "id": "01849dcd",
   "metadata": {},
   "outputs": [
    {
     "data": {
      "image/png": "[encoded data removed]",
      "text/plain": [
       "<Figure size 640x480 with 1 Axes>"
      ]
     },
     "metadata": {},
     "output_type": "display_data"
    },
    {
     "name": "stdout",
     "output_type": "stream",
     "text": [
      "maximum point:  0.59\n"
     ]
    }
   ],
   "source": [
    "# Question 4: F1 Score\n",
    "\n",
    "pred_results['f1'] = 2 * pred_results['precision'] * pred_results['recall'] / (pred_results['precision'] + pred_results['recall'])\n",
    "\n",
    "plt.plot(pred_results['threshold'], pred_results['f1'])\n",
    "plt.title('F1 Score')\n",
    "plt.show()\n",
    "\n",
    "print(\"maximum point: \",pred_results.iloc[pred_results['f1'].idxmax()]['threshold'])"
   ]
  },
  {
   "cell_type": "markdown",
   "id": "55783283",
   "metadata": {},
   "source": [
    "# Alternative: use all_train and test\n",
    "\n",
    "pred2_results['f1'] = 2 * pred2_results['precision'] * pred2_results['recall'] / (pred2_results['precision'] + pred2_results['recall'])\n",
    "\n",
    "plt.plot(pred2_results['threshold'], pred2_results['f1'])\n",
    "plt.title('F1 Score')\n",
    "plt.show()\n",
    "\n",
    "print(\"maximum point: \",pred2_results.iloc[pred2_results['f1'].idxmax()]['threshold'])"
   ]
  },
  {
   "cell_type": "code",
   "execution_count": 17,
   "id": "ca05d758",
   "metadata": {},
   "outputs": [
    {
     "name": "stdout",
     "output_type": "stream",
     "text": [
      "C=1.0 mean=0.822, std=0.036\n"
     ]
    }
   ],
   "source": [
    "# Question 5: 5-Fold CV\n",
    "\n",
    "def train(df_train, y_train, C=1.0):\n",
    "    dicts = df_train[categorical + numerical].to_dict(orient='records')\n",
    "\n",
    "    dv = DictVectorizer(sparse=False)\n",
    "    X_train = dv.fit_transform(dicts)\n",
    "\n",
    "    model = LogisticRegression(solver='liblinear', C=C, max_iter=1000)\n",
    "    model.fit(X_train, y_train)\n",
    "    \n",
    "    return dv, model\n",
    "    \n",
    "def predict(df, dv, model):\n",
    "    dicts = df[categorical + numerical].to_dict(orient='records')\n",
    "\n",
    "    X = dv.transform(dicts)\n",
    "    y_pred = model.predict_proba(X)[:, 1]\n",
    "\n",
    "    return y_pred\n",
    "\n",
    "\n",
    "kfold = KFold(n_splits=5, shuffle=True, random_state=1)\n",
    "\n",
    "scores = []\n",
    "\n",
    "for train_idx, val_idx in kfold.split(df_full_train):\n",
    "    df_train = df_full_train.iloc[train_idx]\n",
    "    df_val = df_full_train.iloc[val_idx]\n",
    "\n",
    "    y_train = df_train.converted.values\n",
    "    y_val = df_val.converted.values\n",
    "\n",
    "    dv, model = train(df_train, y_train)\n",
    "    y_pred = predict(df_val, dv, model)\n",
    "\n",
    "    auc = roc_auc_score(y_val, y_pred)\n",
    "    scores.append(auc)\n",
    "\n",
    "\n",
    "print('C=1.0 mean=%.3f, std=%.3f' % (np.mean(scores), np.std(scores)))\n",
    "\n",
    "\n",
    "\n",
    "# Use AUC to evaluate the model on validation\n"
   ]
  },
  {
   "cell_type": "code",
   "execution_count": null,
   "id": "ab3c64d4",
   "metadata": {},
   "outputs": [
    {
     "name": "stderr",
     "output_type": "stream",
     "text": [
      "100%|██████████| 3/3 [00:00<00:00,  6.69it/s]"
     ]
    },
    {
     "name": "stdout",
     "output_type": "stream",
     "text": [
      "C=1e-06 mean=0.560, std=0.024\n",
      "C=0.001 mean=0.867, std=0.029\n",
      "C=1 mean=0.822, std=0.036\n"
     ]
    },
    {
     "name": "stderr",
     "output_type": "stream",
     "text": [
      "\n"
     ]
    }
   ],
   "source": [
    "# Question 6: Hyperparameter Tuning\n",
    "\n",
    "\n",
    "C = [0.000001, 0.001, 1]\n",
    "\n",
    "for c in tqdm(C):\n",
    "    kfold = KFold(n_splits=5, shuffle=True, random_state=1)\n",
    "\n",
    "    scores = []\n",
    "\n",
    "    for train_idx, val_idx in kfold.split(df_full_train):\n",
    "        df_train = df_full_train.iloc[train_idx]\n",
    "        df_val = df_full_train.iloc[val_idx]\n",
    "\n",
    "        y_train = df_train.converted.values\n",
    "        y_val = df_val.converted.values\n",
    "\n",
    "        dv, model = train(df_train, y_train, c)\n",
    "        y_pred = predict(df_val, dv, model)\n",
    "\n",
    "        auc = roc_auc_score(y_val, y_pred)\n",
    "        scores.append(auc)\n",
    "    print('C=%s mean=%.3f, std=%.3f' % (c, np.mean(scores), np.std(scores)))\n",
    "\n",
    "\n",
    "# results:\n",
    "#C=1e-06 mean=0.560, std=0.024\n",
    "#C=0.001 mean=0.867, std=0.029\n",
    "#C=1 mean=0.822, std=0.036"
   ]
  }
 ],
 "metadata": {
  "kernelspec": {
   "display_name": "Python 3",
   "language": "python",
   "name": "python3"
  },
  "language_info": {
   "codemirror_mode": {
    "name": "ipython",
    "version": 3
   },
   "file_extension": ".py",
   "mimetype": "text/x-python",
   "name": "python",
   "nbconvert_exporter": "python",
   "pygments_lexer": "ipython3",
   "version": "3.12.1"
  }
 },
 "nbformat": 4,
 "nbformat_minor": 5
}
