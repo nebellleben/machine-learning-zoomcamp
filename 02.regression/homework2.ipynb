{
 "cells": [
  {
   "cell_type": "code",
   "execution_count": 36,
   "id": "f912707d",
   "metadata": {},
   "outputs": [],
   "source": [
    "import pandas as pd\n",
    "import numpy as np\n",
    "import matplotlib.pyplot as plt"
   ]
  },
  {
   "cell_type": "code",
   "execution_count": 37,
   "id": "bc856f19",
   "metadata": {},
   "outputs": [],
   "source": [
    "# Load Data\n",
    "\n",
    "cols = ['engine_displacement','horsepower','vehicle_weight','model_year','fuel_efficiency_mpg']\n",
    "fuel = pd.read_csv('https://raw.githubusercontent.com/alexeygrigorev/datasets/master/car_fuel_efficiency.csv', usecols=cols)\n",
    "\n",
    "base = ['engine_displacement', 'horsepower', 'vehicle_weight', 'model_year'] # y: 'fuel_efficiency_mpg'"
   ]
  },
  {
   "cell_type": "code",
   "execution_count": 38,
   "id": "c280acac",
   "metadata": {},
   "outputs": [
    {
     "data": {
      "text/plain": [
       "(array([4.300e+01, 2.460e+02, 9.880e+02, 2.259e+03, 2.913e+03, 2.165e+03,\n",
       "        8.610e+02, 1.940e+02, 3.300e+01, 2.000e+00]),\n",
       " array([ 6.20097053,  8.17759568, 10.15422084, 12.13084599, 14.10747114,\n",
       "        16.08409629, 18.06072144, 20.03734659, 22.01397175, 23.9905969 ,\n",
       "        25.96722205]),\n",
       " <BarContainer object of 10 artists>)"
      ]
     },
     "execution_count": 38,
     "metadata": {},
     "output_type": "execute_result"
    },
    {
     "data": {
      "image/png": "[encoded data removed]",
      "text/plain": [
       "<Figure size 640x480 with 1 Axes>"
      ]
     },
     "metadata": {},
     "output_type": "display_data"
    }
   ],
   "source": [
    "# EDA\n",
    "\n",
    "plt.hist(fuel['fuel_efficiency_mpg'], bins=10)"
   ]
  },
  {
   "cell_type": "code",
   "execution_count": 39,
   "id": "9637d0c5",
   "metadata": {},
   "outputs": [
    {
     "name": "stdout",
     "output_type": "stream",
     "text": [
      "Missing values:  Index(['horsepower'], dtype='object')\n"
     ]
    }
   ],
   "source": [
    "# Question 1: Missing values\n",
    "\n",
    "print(\"Missing values: \",fuel.columns[fuel.isna().any()].astype(str))"
   ]
  },
  {
   "cell_type": "code",
   "execution_count": 40,
   "id": "8a5ccce2",
   "metadata": {},
   "outputs": [
    {
     "name": "stdout",
     "output_type": "stream",
     "text": [
      "149.0\n"
     ]
    }
   ],
   "source": [
    "# Question 2: Median\n",
    "\n",
    "print(fuel['horsepower'].median())"
   ]
  },
  {
   "cell_type": "code",
   "execution_count": 41,
   "id": "123b166a",
   "metadata": {},
   "outputs": [],
   "source": [
    "# Data Preparation\n",
    "\n",
    "n = len(fuel)\n",
    "\n",
    "idx = np.arange(n)\n",
    "\n",
    "np.random.seed(42)\n",
    "np.random.shuffle(idx)\n",
    "\n",
    "n_val = int(n * 0.2)\n",
    "n_test = int(n * 0.2)\n",
    "n_train = n - n_val - n_test\n",
    "\n",
    "fuel_train = fuel.iloc[idx[:n_train]]\n",
    "fuel_val = fuel.iloc[idx[n_train:n_train+n_val]]\n",
    "fuel_test = fuel.iloc[idx[n_train+n_val:]]\n",
    "\n",
    "fuel_train = fuel_train.reset_index(drop=True)\n",
    "fuel_val = fuel_val.reset_index(drop=True)\n",
    "fuel_test = fuel_test.reset_index(drop=True)\n",
    "\n",
    "y_train = fuel_train['fuel_efficiency_mpg'].values\n",
    "y_val = fuel_val['fuel_efficiency_mpg'].values\n",
    "y_test = fuel_test['fuel_efficiency_mpg'].values\n"
   ]
  },
  {
   "cell_type": "code",
   "execution_count": 42,
   "id": "e446d736",
   "metadata": {},
   "outputs": [],
   "source": [
    "# Common code for defining regression and RMSE functions\n",
    "\n",
    "'''\n",
    "def train_linear_regression(X, y):\n",
    "    ones = np.ones(X.shape[0])\n",
    "    X = np.column_stack([ones, X])\n",
    "\n",
    "    XTX = X.T.dot(X)\n",
    "    XTX_inv = np.linalg.inv(XTX)\n",
    "    w_full = XTX_inv.dot(X.T).dot(y)\n",
    "    \n",
    "    return w_full[0], w_full[1:]\n",
    "'''\n",
    "\n",
    "def train_linear_regression(X, y, r=0):\n",
    "    ones = np.ones(X.shape[0])\n",
    "    X = np.column_stack([ones, X])\n",
    "\n",
    "    XTX = X.T.dot(X)\n",
    "    XTX = XTX + r * np.eye(XTX.shape[0])\n",
    "\n",
    "    XTX_inv = np.linalg.inv(XTX)\n",
    "    w_full = XTX_inv.dot(X.T).dot(y)\n",
    "    \n",
    "    return w_full[0], w_full[1:]\n",
    "\n",
    "def rmse(y, y_pred):\n",
    "    se = (y - y_pred) ** 2\n",
    "    mse = se.mean()\n",
    "    return np.sqrt(mse)\n",
    "\n",
    "def prepare_X(df):\n",
    "    df_num = df[base]\n",
    "    df_num = df_num.fillna(0)\n",
    "    X = df_num.values\n",
    "    return X"
   ]
  },
  {
   "cell_type": "code",
   "execution_count": 43,
   "id": "a1b094ec",
   "metadata": {},
   "outputs": [],
   "source": [
    "# Question 3-4: common validation set\n",
    "\n",
    "X_val = prepare_X(fuel_val)"
   ]
  },
  {
   "cell_type": "code",
   "execution_count": 44,
   "id": "9a89b79c",
   "metadata": {},
   "outputs": [
    {
     "data": {
      "text/plain": [
       "np.float64(0.52)"
      ]
     },
     "execution_count": 44,
     "metadata": {},
     "output_type": "execute_result"
    }
   ],
   "source": [
    "# Question 3 Option 1: fill with zero and perform regression\n",
    "fuel_3a = fuel.copy()\n",
    "fuel_train_3a = fuel_train.copy()\n",
    "\n",
    "fuel_train_3a['horsepower'] = fuel_train_3a['horsepower'].fillna(0)\n",
    "\n",
    "X_train_3a = prepare_X(fuel_train_3a)\n",
    "\n",
    "w0_3a, w_3a = train_linear_regression(X_train_3a, y_train)\n",
    "\n",
    "y_pred_3a = w0_3a + X_val.dot(w_3a)\n",
    "round(rmse(y_val, y_pred_3a), 2)"
   ]
  },
  {
   "cell_type": "code",
   "execution_count": 45,
   "id": "4f82e99f",
   "metadata": {},
   "outputs": [
    {
     "data": {
      "text/plain": [
       "np.float64(0.61)"
      ]
     },
     "execution_count": 45,
     "metadata": {},
     "output_type": "execute_result"
    }
   ],
   "source": [
    "# Question 3 Option 2: fill with mean and perform regression\n",
    "fuel_3b = fuel.copy()\n",
    "fuel_train_3b = fuel_train.copy()\n",
    "\n",
    "fuel_train_3b['horsepower'] = fuel_train_3b['horsepower'].fillna(fuel_train_3b.horsepower.mean())\n",
    "\n",
    "X_train_3b = prepare_X(fuel_train_3b)\n",
    "\n",
    "w0_3b, w_3b = train_linear_regression(X_train_3b, y_train)\n",
    "\n",
    "y_pred_3b = w0_3b + X_val.dot(w_3b)\n",
    "round(rmse(y_val, y_pred_3b), 2)\n",
    "\n",
    "# Using mean performs better"
   ]
  },
  {
   "cell_type": "code",
   "execution_count": null,
   "id": "ab07286a",
   "metadata": {},
   "outputs": [
    {
     "name": "stdout",
     "output_type": "stream",
     "text": [
      "r = 0, rmse = 0.52\n",
      "r = 0.01, rmse = 0.52\n",
      "r = 0.1, rmse = 0.52\n",
      "r = 1, rmse = 0.52\n",
      "r = 5, rmse = 0.52\n",
      "r = 10, rmse = 0.52\n",
      "r = 100, rmse = 0.52\n"
     ]
    },
    {
     "data": {
      "text/plain": [
       "'\\nr = 0, rmse = 0.5173782638844466\\nr = 0.01, rmse = 0.5171115525769823\\nr = 0.1, rmse = 0.5187525130702517\\nr = 1, rmse = 0.5222348802093141\\nr = 5, rmse = 0.522891609282361\\nr = 10, rmse = 0.5229812979636599\\nr = 100, rmse = 0.5230636233819933\\n'"
      ]
     },
     "execution_count": 46,
     "metadata": {},
     "output_type": "execute_result"
    }
   ],
   "source": [
    "# Question 4: (use 3a training set)\n",
    "\n",
    "r = [0, 0.01, 0.1, 1, 5, 10, 100]\n",
    "\n",
    "\n",
    "for ri in r:\n",
    "    w0_4, w_4 = train_linear_regression(X_train_3a, y_train, r=ri)\n",
    "\n",
    "    y_pred_4 = w0_4 + X_val.dot(w_4)\n",
    "    print(f'r = {ri}, rmse = {round(rmse(y_val, y_pred_4), 2)}')\n",
    "\n",
    "# Actually r=100 gives the best results:\n",
    "'''\n",
    "r = 0, rmse = 0.5173782638844466\n",
    "r = 0.01, rmse = 0.5171115525769823\n",
    "r = 0.1, rmse = 0.5187525130702517\n",
    "r = 1, rmse = 0.5222348802093141\n",
    "r = 5, rmse = 0.522891609282361\n",
    "r = 10, rmse = 0.5229812979636599\n",
    "r = 100, rmse = 0.5230636233819933\n",
    "'''"
   ]
  },
  {
   "cell_type": "code",
   "execution_count": null,
   "id": "4ff9d07f",
   "metadata": {},
   "outputs": [
    {
     "name": "stdout",
     "output_type": "stream",
     "text": [
      "stanard deviation: 0.007\n"
     ]
    }
   ],
   "source": [
    "# Question 5\n",
    "\n",
    "# Define the functions to retieve the indexing\n",
    "\n",
    "def prepare(seed=42):\n",
    "\n",
    "    n = len(fuel)\n",
    "\n",
    "    idx = np.arange(n)\n",
    "\n",
    "    np.random.seed(seed)\n",
    "    np.random.shuffle(idx)\n",
    "\n",
    "    n_val = int(n * 0.2)\n",
    "    n_test = int(n * 0.2)\n",
    "    n_train = n - n_val - n_test\n",
    "\n",
    "    fuel_train = fuel.iloc[idx[:n_train]]\n",
    "    fuel_val = fuel.iloc[idx[n_train:n_train+n_val]]\n",
    "    fuel_test = fuel.iloc[idx[n_train+n_val:]]\n",
    "\n",
    "    fuel_train = fuel_train.reset_index(drop=True)\n",
    "    fuel_val = fuel_val.reset_index(drop=True)\n",
    "    fuel_test = fuel_test.reset_index(drop=True)\n",
    "\n",
    "    y_train = fuel_train['fuel_efficiency_mpg'].values\n",
    "    y_val = fuel_val['fuel_efficiency_mpg'].values\n",
    "    y_test = fuel_test['fuel_efficiency_mpg'].values\n",
    "\n",
    "    return fuel_train, fuel_val, fuel_test, y_train, y_val, y_test\n",
    "\n",
    "seeds = [0, 1, 2, 3, 4, 5, 6, 7, 8, 9]\n",
    "\n",
    "stds = []\n",
    "\n",
    "for s in seeds:\n",
    "    fuel_train, fuel_val, fuel_test, y_train, y_val, y_test = prepare(s)\n",
    "\n",
    "    X_val = prepare_X(fuel_val)\n",
    "\n",
    "    fuel_train['horsepower'] = fuel_train['horsepower'].fillna(0)\n",
    "\n",
    "    X_train = prepare_X(fuel_train)\n",
    "\n",
    "    w0, w = train_linear_regression(X_train, y_train)\n",
    "\n",
    "    y_pred = w0 + X_val.dot(w)\n",
    "    stds.append(rmse(y_val, y_pred))\n",
    "\n",
    "print(f\"stanard deviation: {round(np.std(stds),3)}\")\n",
    "\n",
    "# Answer 0.007"
   ]
  },
  {
   "cell_type": "code",
   "execution_count": null,
   "id": "39c725a2",
   "metadata": {},
   "outputs": [
    {
     "data": {
      "text/plain": [
       "np.float64(0.5145092074891398)"
      ]
     },
     "execution_count": 59,
     "metadata": {},
     "output_type": "execute_result"
    }
   ],
   "source": [
    "# Question 6\n",
    "\n",
    "fuel_train, fuel_val, fuel_test, y_train, y_val, y_test = prepare(9)\n",
    "\n",
    "fuel_train['horsepower'] = fuel_train['horsepower'].fillna(0)\n",
    "\n",
    "fuel_valtest = pd.concat([fuel_val, fuel_test], axis=0)\n",
    "y_valtest = np.append(y_val,y_test)\n",
    "\n",
    "X_valtest = prepare_X(fuel_valtest)\n",
    "\n",
    "w0, w = train_linear_regression(X_train, y_train)\n",
    "\n",
    "y_pred = w0 + X_valtest.dot(w)\n",
    "\n",
    "rmse(y_valtest, y_pred)\n",
    "\n",
    "# Answer: 0.515"
   ]
  }
 ],
 "metadata": {
  "kernelspec": {
   "display_name": "Python 3",
   "language": "python",
   "name": "python3"
  },
  "language_info": {
   "codemirror_mode": {
    "name": "ipython",
    "version": 3
   },
   "file_extension": ".py",
   "mimetype": "text/x-python",
   "name": "python",
   "nbconvert_exporter": "python",
   "pygments_lexer": "ipython3",
   "version": "3.12.1"
  }
 },
 "nbformat": 4,
 "nbformat_minor": 5
}
