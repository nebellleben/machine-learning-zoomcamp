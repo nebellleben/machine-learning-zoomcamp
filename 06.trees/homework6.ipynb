{
 "cells": [
  {
   "cell_type": "code",
   "execution_count": 10,
   "id": "07f4ac43",
   "metadata": {},
   "outputs": [],
   "source": [
    "import pandas as pd\n",
    "from sklearn.tree import DecisionTreeRegressor, export_text\n",
    "from sklearn.model_selection import train_test_split\n",
    "from sklearn.feature_extraction import DictVectorizer\n",
    "from sklearn.ensemble import RandomForestRegressor\n",
    "import numpy as np\n",
    "from sklearn.metrics import mean_squared_error\n",
    "import matplotlib.pyplot as plt"
   ]
  },
  {
   "cell_type": "code",
   "execution_count": 3,
   "id": "daf1e1f5",
   "metadata": {},
   "outputs": [],
   "source": [
    "df = pd.read_csv('https://raw.githubusercontent.com/alexeygrigorev/datasets/master/car_fuel_efficiency.csv')"
   ]
  },
  {
   "cell_type": "code",
   "execution_count": 4,
   "metadata": {},
   "outputs": [],
   "source": [
    "# Preprocessing\n",
    "\n",
    "df = df.fillna(0)\n",
    "all_train_df, test_df = train_test_split(df, test_size=0.2, random_state=1)\n",
    "train_df, val_df = train_test_split(all_train_df, test_size=0.25, random_state=1)\n",
    "\n",
    "y_train = train_df['fuel_efficiency_mpg'].values\n",
    "y_all_train = all_train_df['fuel_efficiency_mpg'].values\n",
    "y_val = val_df['fuel_efficiency_mpg'].values\n",
    "y_test = test_df['fuel_efficiency_mpg'].values\n",
    "del train_df['fuel_efficiency_mpg']\n",
    "del all_train_df['fuel_efficiency_mpg']\n",
    "del val_df['fuel_efficiency_mpg']\n",
    "del test_df['fuel_efficiency_mpg']\n",
    "\n",
    "train_dict = train_df.to_dict(orient='records')\n",
    "all_train_dict = all_train_df.to_dict(orient='records')\n",
    "val_dict = val_df.to_dict(orient='records')\n",
    "test_dict = test_df.to_dict(orient='records')\n",
    "\n",
    "dv = DictVectorizer(sparse=True)\n",
    "X_train = dv.fit_transform(train_dict)\n",
    "X_val = dv.transform(val_dict)\n",
    "X_all_train= dv.transform(all_train_dict)\n",
    "X_test = dv.transform(test_dict)\n",
    "\n"
   ]
  },
  {
   "cell_type": "markdown",
   "id": "c2116d63",
   "metadata": {},
   "source": [
    "# Question 1\n",
    "Let's train a decision tree regressor to predict the `fuel_efficiency_mpg` variable.\n",
    "\n",
    "Train a model with `max_depth=1`.\n",
    "Which feature is used for splitting the data?\n",
    "\n",
    "- 'vehicle_weight'\n",
    "- 'model_year'\n",
    "- 'origin'\n",
    "- 'fuel_type'"
   ]
  },
  {
   "cell_type": "code",
   "execution_count": 5,
   "id": "6937f677",
   "metadata": {},
   "outputs": [
    {
     "name": "stdout",
     "output_type": "stream",
     "text": [
      "|--- vehicle_weight <= 3022.11\n",
      "|   |--- value: [16.88]\n",
      "|--- vehicle_weight >  3022.11\n",
      "|   |--- value: [12.94]\n",
      "\n"
     ]
    }
   ],
   "source": [
    "dt = DecisionTreeRegressor(max_depth=1, random_state=1)\n",
    "dt.fit(X_train,y_train)\n",
    "\n",
    "print(export_text(dt, feature_names=dv.get_feature_names_out()))\n"
   ]
  },
  {
   "cell_type": "markdown",
   "id": "b4e655e6",
   "metadata": {},
   "source": [
    "# Question 2\n",
    "Train a random forest regressor with these parameters:\n",
    "\n",
    "- `n_estimators=10`\n",
    "- `random_state=1`\n",
    "- `n_jobs=-1` (optional - to make training faster)\n",
    "\n",
    "What's the RMSE of this model on the validation data?\n",
    "\n",
    "- 0.045\n",
    "- 0.45\n",
    "- 4.5\n",
    "- 45.0\n",
    "#"
   ]
  },
  {
   "cell_type": "code",
   "execution_count": 9,
   "id": "fa70f0ef",
   "metadata": {},
   "outputs": [
    {
     "name": "stdout",
     "output_type": "stream",
     "text": [
      "0.4595777223092726\n"
     ]
    }
   ],
   "source": [
    "rf = RandomForestRegressor(n_estimators=10, random_state=1, n_jobs=-1)\n",
    "rf.fit(X_train, y_train)\n",
    "y_pred = rf.predict(X_val)\n",
    "print(np.sqrt(mean_squared_error(y_pred, y_val)))\n",
    "\n"
   ]
  },
  {
   "cell_type": "markdown",
   "id": "c26417ec",
   "metadata": {},
   "source": [
    "# Question 3\n",
    "Now let's experiment with the n_estimators parameter\n",
    "\n",
    "Try different values of this parameter from 10 to 200 with step 10.\n",
    "\n",
    "Set `random_state` to `1`.\n",
    "\n",
    "Evaluate the model on the validation dataset.\n",
    "\n",
    "After which value of n_estimators does RMSE stop improving? Consider 3 decimal places for calculating the answer.\n",
    "\n",
    "- 10\n",
    "- 25\n",
    "- 80\n",
    "- 200\n",
    "If it doesn't stop improving, use the latest iteration number in your answer.\n",
    "\n"
   ]
  },
  {
   "cell_type": "code",
   "execution_count": null,
   "id": "cdbbd10e",
   "metadata": {},
   "outputs": [],
   "source": [
    "range_estimators = np.arange(10,210,10)\n",
    "results = []\n",
    "\n",
    "for i in range_estimators:\n",
    "    rf = RandomForestRegressor(n_estimators=i, random_state=1)\n",
    "    rf.fit(X_train, y_train)\n",
    "    y_pred = rf.predict(X_val)\n",
    "    results.append(np.sqrt(mean_squared_error(y_pred, y_val)))\n",
    "    \n",
    "plt.plot(range_estimators, results)\n"
   ]
  },
  {
   "cell_type": "markdown",
   "id": "d3c8c16f",
   "metadata": {},
   "source": [
    "# Question 4\n",
    "Let's select the best max_depth:\n",
    "\n",
    "Try different values of max_depth: `[10, 15, 20, 25]`\n",
    "\n",
    "For each of these values,\n",
    "try different values of n_estimators from 10 till 200 (with step 10)\n",
    "calculate the mean RMSE\n",
    "\n",
    "Fix the random seed: `random_state=1`\n",
    "\n",
    "What's the best max_depth, using the mean RMSE?\n",
    "\n",
    "- 10\n",
    "- 15\n",
    "- 20\n",
    "- 25"
   ]
  },
  {
   "cell_type": "code",
   "execution_count": null,
   "id": "376ad202",
   "metadata": {},
   "outputs": [],
   "source": []
  },
  {
   "cell_type": "markdown",
   "id": "764e5039",
   "metadata": {},
   "source": [
    "# Question 5\n",
    "We can extract feature importance information from tree-based models.\n",
    "\n",
    "At each step of the decision tree learning algorithm, it finds the best split. When doing it, we can calculate \"gain\" - the reduction in impurity before and after the split. This gain is quite useful in understanding what are the important features for tree-based models.\n",
    "\n",
    "In Scikit-Learn, tree-based models contain this information in the feature_importances_ field.\n",
    "\n",
    "For this homework question, we'll find the most important feature:\n",
    "\n",
    "Train the model with these parameters:\n",
    "- `n_estimators=10`,\n",
    "- `max_depth=20`,\n",
    "- `random_state=1`,\n",
    "- `n_jobs=-1` (optional)\n",
    "Get the feature importance information from this model\n",
    "What's the most important feature (among these 4)?\n",
    "\n",
    "- `vehicle_weight`\n",
    "- `horsepower`\n",
    "- `acceleration`\n",
    "- `engine_displacement`\n"
   ]
  },
  {
   "cell_type": "code",
   "execution_count": null,
   "id": "b3b12530",
   "metadata": {},
   "outputs": [],
   "source": []
  },
  {
   "cell_type": "markdown",
   "id": "71b9a33d",
   "metadata": {},
   "source": [
    "# Question 6\n",
    "Now let's train an XGBoost model! For this question, we'll tune the eta parameter:\n",
    "\n",
    "Install XGBoost\n",
    "Create DMatrix for train and validation\n",
    "Create a watchlist\n",
    "Train a model with these parameters for 100 rounds:\n",
    "\n",
    "    xgb_params = {\n",
    "        'eta': 0.3, \n",
    "        'max_depth': 6,\n",
    "        'min_child_weight': 1,\n",
    "        \n",
    "        'objective': 'reg:squarederror',\n",
    "        'nthread': 8,\n",
    "        \n",
    "        'seed': 1,\n",
    "        'verbosity': 1,\n",
    "    }\n",
    "\n",
    "Now change eta from 0.3 to 0.1.\n",
    "\n",
    "Which eta leads to the best RMSE score on the validation dataset?\n",
    "\n",
    "- 0.3\n",
    "- 0.1\n",
    "- Both give equal value\n"
   ]
  }
 ],
 "metadata": {
  "kernelspec": {
   "display_name": "Python 3",
   "language": "python",
   "name": "python3"
  },
  "language_info": {
   "codemirror_mode": {
    "name": "ipython",
    "version": 3
   },
   "file_extension": ".py",
   "mimetype": "text/x-python",
   "name": "python",
   "nbconvert_exporter": "python",
   "pygments_lexer": "ipython3",
   "version": "3.12.1"
  }
 },
 "nbformat": 4,
 "nbformat_minor": 5
}
