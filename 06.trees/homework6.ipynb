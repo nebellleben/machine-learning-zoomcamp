{
 "cells": [
  {
   "cell_type": "code",
   "execution_count": 52,
   "id": "07f4ac43",
   "metadata": {},
   "outputs": [],
   "source": [
    "import pandas as pd\n",
    "from sklearn.tree import DecisionTreeRegressor, export_text\n",
    "from sklearn.model_selection import train_test_split\n",
    "from sklearn.feature_extraction import DictVectorizer"
   ]
  },
  {
   "cell_type": "code",
   "execution_count": 53,
   "id": "daf1e1f5",
   "metadata": {},
   "outputs": [],
   "source": [
    "df = pd.read_csv('https://raw.githubusercontent.com/alexeygrigorev/datasets/master/car_fuel_efficiency.csv')\n"
   ]
  },
  {
   "cell_type": "code",
   "execution_count": 54,
   "metadata": {},
   "outputs": [],
   "source": [
    "# Preprocessing\n",
    "\n",
    "df = df.fillna(0)\n",
    "all_train_df, test_df = train_test_split(df, test_size=0.2, random_state=1)\n",
    "train_df, val_df = train_test_split(all_train_df, test_size=0.25, random_state=1)\n",
    "\n",
    "y_train = train_df['fuel_efficiency_mpg'].values\n",
    "y_all_train = all_train_df['fuel_efficiency_mpg'].values\n",
    "y_val = val_df['fuel_efficiency_mpg'].values\n",
    "y_test = test_df['fuel_efficiency_mpg'].values\n",
    "del train_df['fuel_efficiency_mpg']\n",
    "del all_train_df['fuel_efficiency_mpg']\n",
    "del val_df['fuel_efficiency_mpg']\n",
    "del test_df['fuel_efficiency_mpg']\n",
    "\n",
    "train_dict = train_df.to_dict(orient='records')\n",
    "all_train_dict = all_train_df.to_dict(orient='records')\n",
    "val_dict = val_df.to_dict(orient='records')\n",
    "test_dict = test_df.to_dict(orient='records')\n",
    "\n",
    "dv = DictVectorizer(sparse=True)\n",
    "X_train = dv.fit_transform(train_dict)\n",
    "X_val = dv.fit(val_dict)\n",
    "X_all_train= dv.fit(all_train_dict)\n",
    "X_test = dv.fit_transform(test_dict)\n",
    "\n"
   ]
  },
  {
   "cell_type": "markdown",
   "id": "c2116d63",
   "metadata": {},
   "source": [
    "# Question 1\n",
    "Let's train a decision tree regressor to predict the `fuel_efficiency_mpg` variable.\n",
    "\n",
    "Train a model with `max_depth=1`.\n",
    "Which feature is used for splitting the data?\n",
    "\n",
    "- 'vehicle_weight'\n",
    "- 'model_year'\n",
    "- 'origin'\n",
    "- 'fuel_type'"
   ]
  },
  {
   "cell_type": "code",
   "execution_count": 55,
   "id": "6937f677",
   "metadata": {},
   "outputs": [
    {
     "name": "stdout",
     "output_type": "stream",
     "text": [
      "|--- feature_13 <= 3022.11\n",
      "|   |--- value: [16.88]\n",
      "|--- feature_13 >  3022.11\n",
      "|   |--- value: [12.94]\n",
      "\n"
     ]
    }
   ],
   "source": [
    "dt = DecisionTreeRegressor(max_depth=1, random_state=1)\n",
    "dt.fit(X_train,y_train)\n",
    "\n",
    "print(export_text(dt))"
   ]
  }
 ],
 "metadata": {
  "kernelspec": {
   "display_name": "Python 3",
   "language": "python",
   "name": "python3"
  },
  "language_info": {
   "codemirror_mode": {
    "name": "ipython",
    "version": 3
   },
   "file_extension": ".py",
   "mimetype": "text/x-python",
   "name": "python",
   "nbconvert_exporter": "python",
   "pygments_lexer": "ipython3",
   "version": "3.12.1"
  }
 },
 "nbformat": 4,
 "nbformat_minor": 5
}
